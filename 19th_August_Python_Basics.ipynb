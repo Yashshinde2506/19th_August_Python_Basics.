{
 "cells": [
  {
   "cell_type": "markdown",
   "id": "454fd29a",
   "metadata": {},
   "source": [
    "# TOPIC: Python Basics Variable"
   ]
  },
  {
   "cell_type": "markdown",
   "id": "f3afdaf3",
   "metadata": {},
   "source": [
    "1. Declare two variables, `x` and `y`, and assign them integer values. Swap the\n",
    "values of these variables without using any temporary variable."
   ]
  },
  {
   "cell_type": "code",
   "execution_count": 1,
   "id": "7fc10dca",
   "metadata": {},
   "outputs": [
    {
     "name": "stdout",
     "output_type": "stream",
     "text": [
      "x= 5\n",
      "y= 4\n"
     ]
    }
   ],
   "source": [
    "x=4\n",
    "y=5\n",
    "x,y=y,x\n",
    "print(\"x=\",x)\n",
    "print(\"y=\",y)"
   ]
  },
  {
   "cell_type": "markdown",
   "id": "93893a26",
   "metadata": {},
   "source": [
    "2. Create a program that calculates the area of a rectangle. Take the length and\n",
    "width as inputs from the user and store them in variables. Calculate and\n",
    "display the area."
   ]
  },
  {
   "cell_type": "code",
   "execution_count": 29,
   "id": "536577a1",
   "metadata": {},
   "outputs": [
    {
     "name": "stdout",
     "output_type": "stream",
     "text": [
      "Enter the length: 5\n",
      "Enter the breath: 4\n",
      "Area of Rectangle= 20\n"
     ]
    }
   ],
   "source": [
    "l = int(input(\"Enter the length: \"))\n",
    "b = int(input(\"Enter the breath: \"))\n",
    "area = l*b\n",
    "print(\"Area of Rectangle=\",area)"
   ]
  },
  {
   "cell_type": "markdown",
   "id": "4f8ff3e1",
   "metadata": {},
   "source": [
    "3. Write a Python program that converts temperatures from Celsius to\n",
    "Fahrenheit. Take the temperature in Celsius as input, store it in a variable,\n",
    "convert it to Fahrenheit, and display the result."
   ]
  },
  {
   "cell_type": "code",
   "execution_count": 30,
   "id": "2741d06c",
   "metadata": {},
   "outputs": [
    {
     "name": "stdout",
     "output_type": "stream",
     "text": [
      "Enter the temperature in Celcisus: 45\n",
      "45.0 Celsius =  113.0 Fahrenheit\n"
     ]
    }
   ],
   "source": [
    "c = float(input(\"Enter the temperature in Celcisus: \"))\n",
    "f = c*(9/5)+32\n",
    "print(c,\"Celsius = \", f,\"Fahrenheit\")"
   ]
  },
  {
   "cell_type": "markdown",
   "id": "c7d7e244",
   "metadata": {},
   "source": [
    "# TOPIC: String Based Questions"
   ]
  },
  {
   "cell_type": "markdown",
   "id": "5b68fa9d",
   "metadata": {},
   "source": [
    "1. Write a Python program that takes a string as input and prints the length of\n",
    "the string."
   ]
  },
  {
   "cell_type": "code",
   "execution_count": 31,
   "id": "bd358d87",
   "metadata": {},
   "outputs": [
    {
     "name": "stdout",
     "output_type": "stream",
     "text": [
      "Enter the string: yash shinde\n",
      "11\n"
     ]
    }
   ],
   "source": [
    "str = input(\"Enter the string: \")\n",
    "length = len(str)\n",
    "print(length)"
   ]
  },
  {
   "cell_type": "markdown",
   "id": "5dc2ab9b",
   "metadata": {},
   "source": [
    "2. Create a program that takes a sentence from the user and counts the number\n",
    "of vowels (a, e, i, o, u) in the string."
   ]
  },
  {
   "cell_type": "code",
   "execution_count": 32,
   "id": "7c9750cd",
   "metadata": {},
   "outputs": [
    {
     "name": "stdout",
     "output_type": "stream",
     "text": [
      "Enter the string: Yash Dnyaneshwar Shinde\n",
      "Numbers of vowels = 6\n"
     ]
    }
   ],
   "source": [
    "demo = input(\"Enter the string: \")\n",
    "cnt = 0\n",
    "i = 0\n",
    "for i in range(len(demo)):\n",
    "    if (\n",
    "        (demo[i] == \"a\")\n",
    "        or (demo[i] == \"e\")\n",
    "        or (demo[i] == \"i\")\n",
    "        or (demo[i] == \"o\")\n",
    "        or (demo[i] == \"u\")\n",
    "    ):\n",
    "        cnt += 1\n",
    "print(\"Numbers of vowels =\" , cnt)"
   ]
  },
  {
   "cell_type": "markdown",
   "id": "4a9af52c",
   "metadata": {},
   "source": [
    "3. Given a string, reverse the order of characters using string slicing and print\n",
    "the reversed string."
   ]
  },
  {
   "cell_type": "code",
   "execution_count": 33,
   "id": "1c52ce59",
   "metadata": {},
   "outputs": [
    {
     "name": "stdout",
     "output_type": "stream",
     "text": [
      "slliksWP morf nrael I\n"
     ]
    }
   ],
   "source": [
    "z = \"I learn from PWskills\"\n",
    "print(z[::-1])"
   ]
  },
  {
   "cell_type": "markdown",
   "id": "ab036a5a",
   "metadata": {},
   "source": [
    "4. Write a program that takes a string as input and checks if it is a palindrome\n",
    "(reads the same forwards and backwards)."
   ]
  },
  {
   "cell_type": "code",
   "execution_count": 35,
   "id": "7dcf5c67",
   "metadata": {},
   "outputs": [
    {
     "name": "stdout",
     "output_type": "stream",
     "text": [
      "Enter the string: malayalam\n",
      "malayalam is a Palindrome\n"
     ]
    }
   ],
   "source": [
    "s1 = input(\"Enter the string: \")\n",
    "reverse = s1[::-1]\n",
    "if(s1 == reverse):\n",
    "    print(s1,\"is a Palindrome\")\n",
    "else:\n",
    "    print(s1,\"not a Palindrome\")"
   ]
  },
  {
   "cell_type": "markdown",
   "id": "9b85819a",
   "metadata": {},
   "source": [
    "5. Create a program that takes a string as input and removes all the spaces from\n",
    "it. Print the modified string without spaces."
   ]
  },
  {
   "cell_type": "code",
   "execution_count": 36,
   "id": "94f0ca84",
   "metadata": {},
   "outputs": [
    {
     "name": "stdout",
     "output_type": "stream",
     "text": [
      "Enter the string: Remove white spaces from string\n",
      "Removewhitespacesfromstring\n"
     ]
    }
   ],
   "source": [
    "example = input(\"Enter the string: \")\n",
    "ans = example.replace(\" \",\"\")\n",
    "print(ans)"
   ]
  },
  {
   "cell_type": "code",
   "execution_count": null,
   "id": "916d475e",
   "metadata": {},
   "outputs": [],
   "source": []
  }
 ],
 "metadata": {
  "kernelspec": {
   "display_name": "Python 3 (ipykernel)",
   "language": "python",
   "name": "python3"
  },
  "language_info": {
   "codemirror_mode": {
    "name": "ipython",
    "version": 3
   },
   "file_extension": ".py",
   "mimetype": "text/x-python",
   "name": "python",
   "nbconvert_exporter": "python",
   "pygments_lexer": "ipython3",
   "version": "3.9.12"
  }
 },
 "nbformat": 4,
 "nbformat_minor": 5
}
